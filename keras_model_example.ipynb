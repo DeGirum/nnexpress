{
 "cells": [
  {
   "cell_type": "markdown",
   "id": "b14a155c",
   "metadata": {},
   "source": [
    "## Compiling Pre-Trained Models from keras\n",
    "In this notebook, we illustrate how we can use `nnexpress` to compile pre-trained models from the keras framework. The notebook illustrates how to load a model, convert it to tflite, save the tflite file, and compile it for n2x sw and hw options. The code is tested on multiple models which can be chosen by uncommenting the appropriate line."
   ]
  },
  {
   "cell_type": "code",
   "execution_count": null,
   "id": "5c8fbd17",
   "metadata": {},
   "outputs": [],
   "source": [
    "#imports for tensorflow and keras models\n",
    "import tensorflow as tf\n",
    "from tensorflow.keras.applications import MobileNet, MobileNetV2, MobileNetV3Small, MobileNetV3Large\n",
    "from tensorflow.keras.applications import ResNet50, ResNet50V2, ResNet101, ResNet152, ResNet152V2\n",
    "#imports for nnexpress compiler and utilities\n",
    "import nnexpress.compiler as n2xc\n",
    "from nnexpress_utils import run_n2x, compare_n2x_sw_hw, estimate_fps"
   ]
  },
  {
   "cell_type": "code",
   "execution_count": null,
   "id": "3cff9863",
   "metadata": {},
   "outputs": [],
   "source": [
    "model=MobileNet(input_shape=(224,224,3),weights='imagenet',include_top=False, pooling='avg')\n",
    "# model=MobileNetV2(input_shape=(224,224,3),weights='imagenet',)\n",
    "# model=MobileNetV3Small(input_shape=(224,224,3),weights='imagenet',minimalistic=True, \n",
    "#                        include_top=False,pooling='avg', include_preprocessing=False)\n",
    "# model=MobileNetV3Large(input_shape=(224,224,3),weights='imagenet',minimalistic=True, \n",
    "#                        include_top=False,pooling='avg', include_preprocessing=False)\n",
    "# model=ResNet50(input_shape=(224,224,3),weights='imagenet',)\n",
    "# model=ResNet50V2(input_shape=(224,224,3),weights='imagenet',include_top=False,pooling='avg')\n",
    "# model=ResNet101(input_shape=(224,224,3),weights='imagenet',)\n",
    "# model=ResNet152(input_shape=(224,224,3),weights='imagenet',)\n",
    "# model=ResNet152V2(input_shape=(224,224,3),weights='imagenet',include_top=False,pooling='avg')"
   ]
  },
  {
   "cell_type": "code",
   "execution_count": null,
   "id": "676d2257",
   "metadata": {},
   "outputs": [],
   "source": [
    "# Convert the model\n",
    "converter = tf.lite.TFLiteConverter.from_keras_model(model) \n",
    "tflite_model = converter.convert()\n",
    "# Save the model.\n",
    "with open('model.tflite', 'wb') as f:\n",
    "    f.write(tflite_model)\n"
   ]
  },
  {
   "cell_type": "code",
   "execution_count": null,
   "id": "7557a8aa",
   "metadata": {},
   "outputs": [],
   "source": [
    "tflite_path='model.tflite'\n",
    "n2x_sw_path='model_sw.n2x'\n",
    "n2x_hw_path='model_hw.n2x'"
   ]
  },
  {
   "cell_type": "code",
   "execution_count": null,
   "id": "bc9fa595",
   "metadata": {},
   "outputs": [],
   "source": [
    "sw_model=n2xc.Compiler(tflite_path, device='SW')\n",
    "hw_model=n2xc.Compiler(tflite_path, device='HW')\n",
    "sw_model.save(n2x_sw_path)\n",
    "hw_model.save(n2x_hw_path)"
   ]
  },
  {
   "cell_type": "markdown",
   "id": "fa614922",
   "metadata": {},
   "source": [
    "**Note**: This below cells can run only on a device equipped with ORCA"
   ]
  },
  {
   "cell_type": "code",
   "execution_count": null,
   "id": "52de7cbf",
   "metadata": {},
   "outputs": [],
   "source": [
    "match=compare_n2x_sw_hw(n2x_sw_path,n2x_hw_path)\n",
    "if match:\n",
    "    print('N2X SW and HW match')\n",
    "else:\n",
    "    print('N2X SW and HW do not match')    "
   ]
  },
  {
   "cell_type": "code",
   "execution_count": null,
   "id": "f2fbeba8",
   "metadata": {},
   "outputs": [],
   "source": [
    "fps=estimate_fps(n2x_hw_path)\n",
    "print('FPS=',fps)"
   ]
  },
  {
   "cell_type": "code",
   "execution_count": null,
   "id": "ca0d4c6e",
   "metadata": {},
   "outputs": [],
   "source": []
  }
 ],
 "metadata": {
  "kernelspec": {
   "display_name": "Python 3 (ipykernel)",
   "language": "python",
   "name": "python3"
  },
  "language_info": {
   "codemirror_mode": {
    "name": "ipython",
    "version": 3
   },
   "file_extension": ".py",
   "mimetype": "text/x-python",
   "name": "python",
   "nbconvert_exporter": "python",
   "pygments_lexer": "ipython3",
   "version": "3.9.5"
  },
  "vscode": {
   "interpreter": {
    "hash": "7104103c6bb96a957b24aaf450ebbff6cedcaab96c1d9c0c35b5c602c2e81d89"
   }
  }
 },
 "nbformat": 4,
 "nbformat_minor": 5
}
