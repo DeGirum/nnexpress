{
 "cells": [
  {
   "cell_type": "markdown",
   "id": "b14a155c",
   "metadata": {},
   "source": [
    "## Compiling Pre-Trained Models from keras\n",
    "In this notebook, we illustrate how we can use `nnexpress` to compile pre-trained models from the keras framework. The notebook illustrates how to load a model, convert it to tflite, save the tflite file, and compile it for n2x sw and hw options. The code is tested on multiple models which can be chosen by uncommenting the appropriate line."
   ]
  },
  {
   "cell_type": "code",
   "execution_count": 1,
   "id": "5c8fbd17",
   "metadata": {},
   "outputs": [
    {
     "name": "stderr",
     "output_type": "stream",
     "text": [
      "2022-10-06 18:41:46.703964: I tensorflow/core/platform/cpu_feature_guard.cc:193] This TensorFlow binary is optimized with oneAPI Deep Neural Network Library (oneDNN) to use the following CPU instructions in performance-critical operations:  AVX2 AVX512F AVX512_VNNI FMA\n",
      "To enable them in other operations, rebuild TensorFlow with the appropriate compiler flags.\n",
      "2022-10-06 18:41:46.792648: I tensorflow/core/util/util.cc:169] oneDNN custom operations are on. You may see slightly different numerical results due to floating-point round-off errors from different computation orders. To turn them off, set the environment variable `TF_ENABLE_ONEDNN_OPTS=0`.\n"
     ]
    }
   ],
   "source": [
    "#imports for tensorflow and keras models\n",
    "import tensorflow as tf\n",
    "from tensorflow.keras.applications import MobileNet, MobileNetV2, MobileNetV3Small, MobileNetV3Large\n",
    "from tensorflow.keras.applications import ResNet50, ResNet50V2, ResNet101, ResNet152, ResNet152V2\n",
    "#imports for nnexpress compiler and utilities\n",
    "import nnexpress.compiler as n2xc\n",
    "from nnexpress_utils import run_n2x, compare_n2x_sw_hw, estimate_fps"
   ]
  },
  {
   "cell_type": "code",
   "execution_count": 2,
   "id": "3cff9863",
   "metadata": {},
   "outputs": [
    {
     "name": "stderr",
     "output_type": "stream",
     "text": [
      "2022-10-06 18:41:57.419336: I tensorflow/core/platform/cpu_feature_guard.cc:193] This TensorFlow binary is optimized with oneAPI Deep Neural Network Library (oneDNN) to use the following CPU instructions in performance-critical operations:  AVX2 AVX512F AVX512_VNNI FMA\n",
      "To enable them in other operations, rebuild TensorFlow with the appropriate compiler flags.\n"
     ]
    }
   ],
   "source": [
    "model=MobileNet(input_shape=(224,224,3),weights='imagenet',include_top=False, pooling='avg')\n",
    "# model=MobileNetV2(input_shape=(224,224,3),weights='imagenet',)\n",
    "# model=MobileNetV3Small(input_shape=(224,224,3),weights='imagenet',minimalistic=True, \n",
    "#                        include_top=False,pooling='avg', include_preprocessing=False)\n",
    "# model=MobileNetV3Large(input_shape=(224,224,3),weights='imagenet',minimalistic=True, \n",
    "#                        include_top=False,pooling='avg', include_preprocessing=False)\n",
    "# model=ResNet50(input_shape=(224,224,3),weights='imagenet',)\n",
    "# model=ResNet50V2(input_shape=(224,224,3),weights='imagenet',include_top=False,pooling='avg')\n",
    "# model=ResNet101(input_shape=(224,224,3),weights='imagenet',)\n",
    "# model=ResNet152(input_shape=(224,224,3),weights='imagenet',)\n",
    "# model=ResNet152V2(input_shape=(224,224,3),weights='imagenet',include_top=False,pooling='avg')"
   ]
  },
  {
   "cell_type": "code",
   "execution_count": 3,
   "id": "676d2257",
   "metadata": {},
   "outputs": [
    {
     "name": "stderr",
     "output_type": "stream",
     "text": [
      "WARNING:absl:Found untraced functions such as _jit_compiled_convolution_op, _jit_compiled_convolution_op, _jit_compiled_convolution_op, _jit_compiled_convolution_op, _jit_compiled_convolution_op while saving (showing 5 of 27). These functions will not be directly callable after loading.\n"
     ]
    },
    {
     "name": "stdout",
     "output_type": "stream",
     "text": [
      "INFO:tensorflow:Assets written to: /tmp/tmp8opy6obz/assets\n"
     ]
    },
    {
     "name": "stderr",
     "output_type": "stream",
     "text": [
      "INFO:tensorflow:Assets written to: /tmp/tmp8opy6obz/assets\n",
      "2022-10-06 18:42:06.647013: W tensorflow/compiler/mlir/lite/python/tf_tfl_flatbuffer_helpers.cc:362] Ignored output_format.\n",
      "2022-10-06 18:42:06.647045: W tensorflow/compiler/mlir/lite/python/tf_tfl_flatbuffer_helpers.cc:365] Ignored drop_control_dependency.\n",
      "2022-10-06 18:42:06.647987: I tensorflow/cc/saved_model/reader.cc:45] Reading SavedModel from: /tmp/tmp8opy6obz\n",
      "2022-10-06 18:42:06.664364: I tensorflow/cc/saved_model/reader.cc:89] Reading meta graph with tags { serve }\n",
      "2022-10-06 18:42:06.664416: I tensorflow/cc/saved_model/reader.cc:130] Reading SavedModel debug info (if present) from: /tmp/tmp8opy6obz\n",
      "2022-10-06 18:42:06.696578: I tensorflow/compiler/mlir/mlir_graph_optimization_pass.cc:354] MLIR V1 optimization pass is not enabled\n",
      "2022-10-06 18:42:06.708047: I tensorflow/cc/saved_model/loader.cc:229] Restoring SavedModel bundle.\n",
      "2022-10-06 18:42:06.934132: I tensorflow/cc/saved_model/loader.cc:213] Running initialization op on SavedModel bundle at path: /tmp/tmp8opy6obz\n",
      "2022-10-06 18:42:06.989417: I tensorflow/cc/saved_model/loader.cc:305] SavedModel load for tags { serve }; Status: success: OK. Took 341434 microseconds.\n",
      "2022-10-06 18:42:07.146404: I tensorflow/compiler/mlir/tensorflow/utils/dump_mlir_util.cc:268] disabling MLIR crash reproducer, set env var `MLIR_CRASH_REPRODUCER_DIRECTORY` to enable.\n"
     ]
    }
   ],
   "source": [
    "# Convert the model\n",
    "converter = tf.lite.TFLiteConverter.from_keras_model(model) \n",
    "tflite_model = converter.convert()\n",
    "# Save the model.\n",
    "with open('model.tflite', 'wb') as f:\n",
    "    f.write(tflite_model)\n"
   ]
  },
  {
   "cell_type": "code",
   "execution_count": 4,
   "id": "7557a8aa",
   "metadata": {},
   "outputs": [],
   "source": [
    "tflite_path='model.tflite'\n",
    "n2x_sw_path='model_sw.n2x'\n",
    "n2x_hw_path='model_hw.n2x'"
   ]
  },
  {
   "cell_type": "code",
   "execution_count": 5,
   "id": "bc9fa595",
   "metadata": {},
   "outputs": [],
   "source": [
    "sw_model=n2xc.Compiler(tflite_path, device='SW')\n",
    "hw_model=n2xc.Compiler(tflite_path, device='HW')\n",
    "sw_model.save(n2x_sw_path)\n",
    "hw_model.save(n2x_hw_path)"
   ]
  },
  {
   "cell_type": "markdown",
   "id": "fa614922",
   "metadata": {},
   "source": [
    "**Note**: This below cells can run only on a device equipped with ORCA"
   ]
  },
  {
   "cell_type": "code",
   "execution_count": 6,
   "id": "52de7cbf",
   "metadata": {},
   "outputs": [
    {
     "name": "stdout",
     "output_type": "stream",
     "text": [
      "N2X SW and HW match\n"
     ]
    }
   ],
   "source": [
    "match=compare_n2x_sw_hw(n2x_sw_path,n2x_hw_path)\n",
    "if match:\n",
    "    print('N2X SW and HW match')\n",
    "else:\n",
    "    print('N2X SW and HW do not match')    "
   ]
  },
  {
   "cell_type": "code",
   "execution_count": 7,
   "id": "f2fbeba8",
   "metadata": {},
   "outputs": [
    {
     "name": "stdout",
     "output_type": "stream",
     "text": [
      "FPS= 75.4300133814654\n"
     ]
    }
   ],
   "source": [
    "fps=estimate_fps(n2x_hw_path)\n",
    "print('FPS=',fps)"
   ]
  },
  {
   "cell_type": "code",
   "execution_count": null,
   "id": "ca0d4c6e",
   "metadata": {},
   "outputs": [],
   "source": []
  }
 ],
 "metadata": {
  "kernelspec": {
   "display_name": "Python 3 (ipykernel)",
   "language": "python",
   "name": "python3"
  },
  "language_info": {
   "codemirror_mode": {
    "name": "ipython",
    "version": 3
   },
   "file_extension": ".py",
   "mimetype": "text/x-python",
   "name": "python",
   "nbconvert_exporter": "python",
   "pygments_lexer": "ipython3",
   "version": "3.8.13"
  },
  "vscode": {
   "interpreter": {
    "hash": "7104103c6bb96a957b24aaf450ebbff6cedcaab96c1d9c0c35b5c602c2e81d89"
   }
  }
 },
 "nbformat": 4,
 "nbformat_minor": 5
}
