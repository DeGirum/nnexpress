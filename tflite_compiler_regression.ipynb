{
 "cells": [
  {
   "cell_type": "markdown",
   "id": "7718eb0e",
   "metadata": {},
   "source": [
    "## DeGirum `nnexpress` Compiler \n",
    "In this notebook, we illustrate the main compiler API that compiles a __tflite__ file to an __n2x__ file. The compiler API accepts a path to a tflite file and the device option. Currently, a tflite file can be compiled for CPU and ORCA (DeGirum's AI HW accelerator). To compile for CPU, specify ` device='SW' ` and to compile for ORCA, specify `device='HW'`\n",
    "\n",
    "After the model is compiled, it can be saved as a file with extension __n2x__ and then run on HW and SW and the results can be compared to make sure that the model has been compiled correctly. The model's performance in terms of frames per second (FPS) can also be estimated. `nnexpress_utilities` contains helper functions to achieve these goals. \n",
    "\n"
   ]
  },
  {
   "cell_type": "code",
   "execution_count": null,
   "id": "be15c10f",
   "metadata": {},
   "outputs": [],
   "source": [
    "import nnexpress.compiler as n2xc\n",
    "from nnexpress_utils import run_n2x, compare_n2x_sw_hw, estimate_fps"
   ]
  },
  {
   "cell_type": "code",
   "execution_count": null,
   "id": "f9eb4335",
   "metadata": {},
   "outputs": [],
   "source": [
    "import os\n",
    "\n",
    "tflite_directory_str='/home/degirum/DeGirumModels/TFLiteModels/'\n",
    "n2xsw_directory_str='/home/degirum/DeGirumModels/N2XSWModels/'\n",
    "n2xhw_directory_str='/home/degirum/DeGirumModels/N2XHWModels/'\n",
    "\n",
    "tflite_directory = os.fsencode(tflite_directory_str)\n",
    "n2xsw_directory = os.fsencode(n2xsw_directory_str)\n",
    "n2xhw_directory = os.fsencode(n2xhw_directory_str)\n",
    "\n",
    "file_number=0    \n",
    "for file in os.listdir(tflite_directory):\n",
    "    filename = os.fsdecode(file)\n",
    "    if filename.endswith(\".tflite\"): \n",
    "        print(file_number)\n",
    "        file_number+=1\n",
    "        tflite_path=os.path.join(tflite_directory, file)\n",
    "        n2x_sw_path = os.path.join(n2xsw_directory, os.fsencode(filename.split('.')[0]+\"_sw.n2x\"))\n",
    "        n2x_hw_path = os.path.join(n2xhw_directory, os.fsencode(filename.split('.')[0]+\"_hw.n2x\"))\n",
    "        print('Compiling ',filename)\n",
    "        sw_model=n2xc.Compiler(tflite_path, device='SW')\n",
    "        hw_model=n2xc.Compiler(tflite_path, device='HW')\n",
    "        sw_model.save(n2x_sw_path)\n",
    "        hw_model.save(n2x_hw_path)\n",
    "        print('Running SW n2x file:',run_n2x(n2x_sw_path))\n",
    "        print('Running HW n2x file:',run_n2x(n2x_hw_path))\n",
    "        match=compare_n2x_sw_hw(n2x_sw_path,n2x_hw_path)\n",
    "        print('Comparing SW vs HW\\n')\n",
    "        if match:\n",
    "            print('N2X SW and HW match')\n",
    "        else:\n",
    "            print('N2X SW and HW do not match')\n",
    "        fps=estimate_fps(n2x_hw_path)\n",
    "        print('FPS=',fps)\n",
    "        print('**********************************************\\n')\n",
    "\n"
   ]
  },
  {
   "cell_type": "code",
   "execution_count": null,
   "id": "5583692f",
   "metadata": {},
   "outputs": [],
   "source": []
  }
 ],
 "metadata": {
  "kernelspec": {
   "display_name": "Python (n2x)",
   "language": "python",
   "name": "n2x"
  },
  "language_info": {
   "codemirror_mode": {
    "name": "ipython",
    "version": 3
   },
   "file_extension": ".py",
   "mimetype": "text/x-python",
   "name": "python",
   "nbconvert_exporter": "python",
   "pygments_lexer": "ipython3",
   "version": "3.8.13"
  },
  "vscode": {
   "interpreter": {
    "hash": "ffc3184502f0c601d7877e5d370bf8ba6818b01a3ec74b419f728212f39a3488"
   }
  }
 },
 "nbformat": 4,
 "nbformat_minor": 5
}
