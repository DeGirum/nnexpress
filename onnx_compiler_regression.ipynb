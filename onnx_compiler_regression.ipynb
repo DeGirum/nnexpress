{
 "cells": [
  {
   "cell_type": "markdown",
   "id": "7718eb0e",
   "metadata": {},
   "source": [
    "## DeGirum `nnexpress` Compiler \n",
    "In this notebook, we illustrate the main compiler API that compiles an __onnx__ file to an __n2x__ file. The compiler API accepts a path to an onnx file and the device option. Currently, an onnx file can be compiled for CPU and ORCA (DeGirum's AI HW accelerator). To compile for CPU, specify ` device='SW' ` and to compile for ORCA, specify `device='HW'`\n",
    "\n",
    "After the model is compiled, it can be saved as a file with extension __n2x__ and then run on HW and SW and the results can be compared to make sure that the model has been compiled correctly. The model's performance in terms of frames per second (FPS) can also be estimated. `nnexpress_utilities` contains helper functions to achieve these goals. \n",
    "\n"
   ]
  },
  {
   "cell_type": "code",
   "execution_count": null,
   "id": "be15c10f",
   "metadata": {},
   "outputs": [],
   "source": [
    "import nnexpress.compiler as n2xc\n",
    "from nnexpress_utils import run_n2x, compare_n2x_sw_hw, estimate_fps"
   ]
  },
  {
   "cell_type": "code",
   "execution_count": null,
   "id": "5e834b8f",
   "metadata": {},
   "outputs": [],
   "source": [
    "n2xc.__version__"
   ]
  },
  {
   "cell_type": "code",
   "execution_count": null,
   "id": "5b5f3aca",
   "metadata": {},
   "outputs": [],
   "source": [
    "import nnexpress.compiler as n2xc\n",
    "import os\n",
    "\n",
    "onnx_directory_str='/home/degirum/DeGirumModels/ONNXModels/'\n",
    "n2xsw_directory_str='/home/degirum/DeGirumModels/N2XSWModels/'\n",
    "n2xhw_directory_str='/home/degirum/DeGirumModels/N2XHWModels/'\n",
    "\n",
    "onnx_directory = os.fsencode(onnx_directory_str)\n",
    "n2xsw_directory = os.fsencode(n2xsw_directory_str)\n",
    "n2xhw_directory = os.fsencode(n2xhw_directory_str)\n",
    "\n",
    "file_number=0    \n",
    "for file in os.listdir(onnx_directory):\n",
    "    filename = os.fsdecode(file)\n",
    "    if filename.endswith(\".onnx\"): \n",
    "        print(file_number)\n",
    "        file_number+=1\n",
    "        tflite_path=os.path.join(onnx_directory, file)\n",
    "        n2x_sw_path = os.path.join(n2xsw_directory, os.fsencode(filename.split('.')[0]+\"_sw.n2x\"))\n",
    "        n2x_hw_path = os.path.join(n2xhw_directory, os.fsencode(filename.split('.')[0]+\"_hw.n2x\"))\n",
    "        print('Compiling ',filename)\n",
    "        sw_model=n2xc.Compiler(tflite_path, device='SW')\n",
    "        hw_model=n2xc.Compiler(tflite_path, device='HW')\n",
    "        sw_model.save(n2x_sw_path)\n",
    "        hw_model.save(n2x_hw_path)\n"
   ]
  },
  {
   "cell_type": "code",
   "execution_count": null,
   "id": "34f8c42a",
   "metadata": {},
   "outputs": [],
   "source": [
    "import os\n",
    "\n",
    "onnx_directory_str='/home/degirum/DeGirumModels/ONNXModels/'\n",
    "n2xsw_directory_str='/home/degirum/DeGirumModels/N2XSWModels/'\n",
    "n2xhw_directory_str='/home/degirum/DeGirumModels/N2XHWModels/'\n",
    "\n",
    "onnx_directory = os.fsencode(onnx_directory_str)\n",
    "n2xsw_directory = os.fsencode(n2xsw_directory_str)\n",
    "n2xhw_directory = os.fsencode(n2xhw_directory_str)\n",
    "\n",
    "file_number=0    \n",
    "for i in range(5):\n",
    "    print(i)\n",
    "    for file in os.listdir(onnx_directory):\n",
    "        filename = os.fsdecode(file)\n",
    "        if filename.endswith(\".onnx\"): \n",
    "            print(file_number)\n",
    "            file_number+=1\n",
    "            tflite_path=os.path.join(onnx_directory, file)\n",
    "            n2x_sw_path = os.path.join(n2xsw_directory, os.fsencode(filename.split('.')[0]+\"_sw.n2x\"))\n",
    "            n2x_hw_path = os.path.join(n2xhw_directory, os.fsencode(filename.split('.')[0]+\"_hw.n2x\"))\n",
    "            print('Compiling ',filename)\n",
    "            sw_model=n2xc.Compiler(tflite_path, device='SW')\n",
    "            hw_model=n2xc.Compiler(tflite_path, device='HW')\n",
    "            sw_model.save(n2x_sw_path)\n",
    "            hw_model.save(n2x_hw_path)\n",
    "            print('Running SW n2x file:',run_n2x(n2x_sw_path))\n",
    "            print('Running HW n2x file:',run_n2x(n2x_hw_path))\n",
    "            match=compare_n2x_sw_hw(n2x_sw_path,n2x_hw_path)\n",
    "            print('Comparing SW vs HW\\n')\n",
    "            if match:\n",
    "                print('N2X SW and HW match')\n",
    "            else:\n",
    "                print('N2X SW and HW do not match')\n",
    "            fps=estimate_fps(n2x_hw_path)\n",
    "            print('FPS=',fps)\n",
    "            print('**********************************************\\n')\n"
   ]
  },
  {
   "cell_type": "code",
   "execution_count": null,
   "id": "47edcfca",
   "metadata": {},
   "outputs": [],
   "source": [
    "onnx_path='/home/degirum/DeGirumModels/ONNXModels/tv_resnet50_quantized_hw.onnx'\n",
    "n2x_sw_path='/home/degirum/DeGirumModels/N2XSWModels/tv_resnet50_quantized_sw.n2x'\n",
    "n2x_hw_path='/home/degirum/DeGirumModels/N2XHWModels/tv_resnet50_quantized_hw.n2x'\n",
    "sw_model=n2xc.Compiler(onnx_path, device='SW')\n",
    "hw_model=n2xc.Compiler(onnx_path, device='HW')\n",
    "sw_model.save(n2x_sw_path)\n",
    "hw_model.save(n2x_hw_path)"
   ]
  },
  {
   "cell_type": "code",
   "execution_count": null,
   "id": "839c1baf-4638-45ba-98ae-a92f692af135",
   "metadata": {},
   "outputs": [],
   "source": [
    "print(run_n2x(n2x_sw_path))"
   ]
  },
  {
   "cell_type": "markdown",
   "id": "f76de236",
   "metadata": {},
   "source": [
    "**Note**: This below cells can run only on a device equipped with ORCA"
   ]
  },
  {
   "cell_type": "code",
   "execution_count": null,
   "id": "a35120fc-028c-41b6-82c7-631577df0c72",
   "metadata": {},
   "outputs": [],
   "source": [
    "print(run_n2x(n2x_hw_path))"
   ]
  },
  {
   "cell_type": "code",
   "execution_count": null,
   "id": "b905af12",
   "metadata": {},
   "outputs": [],
   "source": [
    "match=compare_n2x_sw_hw(n2x_sw_path,n2x_hw_path)\n",
    "if match:\n",
    "    print('N2X SW and HW match')\n",
    "else:\n",
    "    print('N2X SW and HW do not match')"
   ]
  },
  {
   "cell_type": "code",
   "execution_count": null,
   "id": "0e2146d0",
   "metadata": {},
   "outputs": [],
   "source": [
    "fps=estimate_fps(n2x_hw_path)\n",
    "print('FPS=',fps)"
   ]
  },
  {
   "cell_type": "code",
   "execution_count": null,
   "id": "d4e3471c",
   "metadata": {},
   "outputs": [],
   "source": []
  }
 ],
 "metadata": {
  "kernelspec": {
   "display_name": "Python (n2x)",
   "language": "python",
   "name": "n2x"
  },
  "language_info": {
   "codemirror_mode": {
    "name": "ipython",
    "version": 3
   },
   "file_extension": ".py",
   "mimetype": "text/x-python",
   "name": "python",
   "nbconvert_exporter": "python",
   "pygments_lexer": "ipython3",
   "version": "3.8.13"
  },
  "vscode": {
   "interpreter": {
    "hash": "ffc3184502f0c601d7877e5d370bf8ba6818b01a3ec74b419f728212f39a3488"
   }
  }
 },
 "nbformat": 4,
 "nbformat_minor": 5
}
