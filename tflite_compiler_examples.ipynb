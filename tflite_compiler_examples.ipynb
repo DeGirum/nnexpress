{
 "cells": [
  {
   "cell_type": "markdown",
   "id": "7718eb0e",
   "metadata": {},
   "source": [
    "## DeGirum `nnexpress` Compiler \n",
    "In this notebook, we illustrate the main compiler API that compiles a __tflite__ file to an __n2x__ file. The compiler API accepts a path to a tflite file and the device option. Currently, a tflite file can be compiled for CPU and ORCA (DeGirum's AI HW accelerator). To compile for CPU, specify ` device='SW' ` and to compile for ORCA, specify `device='HW'`\n",
    "\n",
    "After the model is compiled, it can be saved as a file with extension __n2x__ and then run on HW and SW and the results can be compared to make sure that the model has been compiled correctly. The model's performance in terms of frames per second (FPS) can also be estimated. `nnexpress_utilities` contains helper functions to achieve these goals. \n",
    "\n"
   ]
  },
  {
   "cell_type": "code",
   "execution_count": null,
   "id": "be15c10f",
   "metadata": {},
   "outputs": [],
   "source": [
    "import nnexpress.compiler as n2xc\n",
    "from nnexpress_utils import run_n2x, compare_n2x_sw_hw, estimate_fps"
   ]
  },
  {
   "cell_type": "code",
   "execution_count": null,
   "id": "34f8c42a",
   "metadata": {},
   "outputs": [],
   "source": [
    "tflite_path='/home/degirum/DeGirumModels/TFLiteModels/ResNet101_fp.tflite'\n",
    "n2x_sw_path='/home/degirum/DeGirumModels/TFLiteModels/ResNet101_fp_sw.n2x'\n",
    "n2x_hw_path='/home/degirum/DeGirumModels/TFLiteModels/ResNet101_fp_hw.n2x'\n"
   ]
  },
  {
   "cell_type": "code",
   "execution_count": null,
   "id": "47edcfca",
   "metadata": {},
   "outputs": [],
   "source": [
    "sw_model=n2xc.Compiler(tflite_path, device='SW')\n",
    "hw_model=n2xc.Compiler(tflite_path, device='HW')\n",
    "sw_model.save(n2x_sw_path)\n",
    "hw_model.save(n2x_hw_path)"
   ]
  },
  {
   "cell_type": "code",
   "execution_count": null,
   "id": "839c1baf-4638-45ba-98ae-a92f692af135",
   "metadata": {},
   "outputs": [],
   "source": [
    "print(run_n2x(n2x_sw_path))"
   ]
  },
  {
   "cell_type": "markdown",
   "id": "f76de236",
   "metadata": {},
   "source": [
    "**Note**: This below cells can run only on a device equipped with ORCA"
   ]
  },
  {
   "cell_type": "code",
   "execution_count": null,
   "id": "a35120fc-028c-41b6-82c7-631577df0c72",
   "metadata": {},
   "outputs": [],
   "source": [
    "print(run_n2x(n2x_hw_path))"
   ]
  },
  {
   "cell_type": "code",
   "execution_count": null,
   "id": "b905af12",
   "metadata": {},
   "outputs": [],
   "source": [
    "match=compare_n2x_sw_hw(n2x_sw_path,n2x_hw_path)\n",
    "if match:\n",
    "    print('N2X SW and HW match')\n",
    "else:\n",
    "    print('N2X SW and HW do not match')"
   ]
  },
  {
   "cell_type": "code",
   "execution_count": null,
   "id": "0e2146d0",
   "metadata": {},
   "outputs": [],
   "source": [
    "fps=estimate_fps(n2x_hw_path)\n",
    "print('FPS=',fps)"
   ]
  }
 ],
 "metadata": {
  "kernelspec": {
   "display_name": "Python 3.8.12 ('dg_pysdk')",
   "language": "python",
   "name": "python3"
  },
  "language_info": {
   "codemirror_mode": {
    "name": "ipython",
    "version": 3
   },
   "file_extension": ".py",
   "mimetype": "text/x-python",
   "name": "python",
   "nbconvert_exporter": "python",
   "pygments_lexer": "ipython3",
   "version": "3.8.12"
  },
  "vscode": {
   "interpreter": {
    "hash": "ffc3184502f0c601d7877e5d370bf8ba6818b01a3ec74b419f728212f39a3488"
   }
  }
 },
 "nbformat": 4,
 "nbformat_minor": 5
}
