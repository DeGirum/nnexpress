{
 "cells": [
  {
   "cell_type": "markdown",
   "id": "8a6c5b0f",
   "metadata": {},
   "source": [
    "## Quantizing keras models\n",
    "In this notebook, we illustrate how keras models can be quantized using random calibration data. For real application use, actual training or validation data should be used for calibration. The quantized models can then be compiled and run on SW and HW to verify that the model runs properly. Performance estimate can also be made using utility tools."
   ]
  },
  {
   "cell_type": "code",
   "execution_count": null,
   "id": "be42270f",
   "metadata": {},
   "outputs": [],
   "source": [
    "import tensorflow as tf\n",
    "from tensorflow.keras.applications import ResNet50\n",
    "import nnexpress.compiler as n2xc\n",
    "from nnexpress_utils import compare_n2x_sw_hw, estimate_fps\n",
    "from quant_utils import representative_dataset, modelQuantizeImages"
   ]
  },
  {
   "cell_type": "code",
   "execution_count": null,
   "id": "0182d5db",
   "metadata": {},
   "outputs": [],
   "source": [
    "image_size=(224,224,3)\n",
    "float_model=ResNet50(input_shape=image_size,weights='imagenet',include_top=True)"
   ]
  },
  {
   "cell_type": "code",
   "execution_count": null,
   "id": "dbf5b958",
   "metadata": {},
   "outputs": [],
   "source": [
    "dataset_generator = lambda : representative_dataset(image_size)\n",
    "model_quant = modelQuantizeImages(float_model, dataset_generator)\n",
    "with open('quant_model.tflite', 'wb') as f:\n",
    "    f.write(model_quant)"
   ]
  },
  {
   "cell_type": "code",
   "execution_count": null,
   "id": "a7a7e048",
   "metadata": {},
   "outputs": [],
   "source": [
    "tflite_path='quant_model.tflite'\n",
    "n2x_sw_path='quant_model_sw.n2x'\n",
    "n2x_hw_path='quant_model_hw.n2x'"
   ]
  },
  {
   "cell_type": "code",
   "execution_count": null,
   "id": "9dc9e0e5",
   "metadata": {},
   "outputs": [],
   "source": [
    "sw_model=n2xc.Compiler(tflite_path, device='SW')\n",
    "hw_model=n2xc.Compiler(tflite_path, device='HW')\n",
    "sw_model.save(n2x_sw_path)\n",
    "hw_model.save(n2x_hw_path)"
   ]
  },
  {
   "cell_type": "markdown",
   "id": "38850cae-89f9-4036-bd2c-76ac85039e09",
   "metadata": {},
   "source": [
    "**Note**: This below cells can run only on a device equipped with ORCA"
   ]
  },
  {
   "cell_type": "code",
   "execution_count": null,
   "id": "a0fa6e58",
   "metadata": {},
   "outputs": [],
   "source": [
    "match=compare_n2x_sw_hw(n2x_sw_path,n2x_hw_path)\n",
    "if match:\n",
    "    print('N2X SW and HW match')\n",
    "else:\n",
    "    print('N2X SW and HW do not match')  "
   ]
  },
  {
   "cell_type": "code",
   "execution_count": null,
   "id": "9d9eaff0",
   "metadata": {},
   "outputs": [],
   "source": [
    "fps=estimate_fps(n2x_hw_path)\n",
    "print('FPS=',fps)"
   ]
  }
 ],
 "metadata": {
  "kernelspec": {
   "display_name": "Python 3 (ipykernel)",
   "language": "python",
   "name": "python3"
  },
  "language_info": {
   "codemirror_mode": {
    "name": "ipython",
    "version": 3
   },
   "file_extension": ".py",
   "mimetype": "text/x-python",
   "name": "python",
   "nbconvert_exporter": "python",
   "pygments_lexer": "ipython3",
   "version": "3.8.12"
  },
  "vscode": {
   "interpreter": {
    "hash": "7104103c6bb96a957b24aaf450ebbff6cedcaab96c1d9c0c35b5c602c2e81d89"
   }
  }
 },
 "nbformat": 4,
 "nbformat_minor": 5
}
