{
 "cells": [
  {
   "cell_type": "markdown",
   "id": "7718eb0e",
   "metadata": {},
   "source": [
    "## Running Precompiled models\n",
    "In this notebook, we show how to run precompiled n2x models on HW and SW."
   ]
  },
  {
   "cell_type": "code",
   "execution_count": 2,
   "id": "be15c10f",
   "metadata": {},
   "outputs": [],
   "source": [
    "from nnexpress_utils import run_n2x, compare_n2x_sw_hw, estimate_fps"
   ]
  },
  {
   "cell_type": "code",
   "execution_count": 3,
   "id": "34f8c42a",
   "metadata": {},
   "outputs": [],
   "source": [
    "n2x_sw_path='<path to n2x sw file>'\n",
    "n2x_hw_path='<path to n2x hw file>'\n"
   ]
  },
  {
   "cell_type": "code",
   "execution_count": 4,
   "id": "01b65812-2cef-4490-91a1-579b57b05ad8",
   "metadata": {},
   "outputs": [
    {
     "name": "stdout",
     "output_type": "stream",
     "text": [
      "success\n"
     ]
    }
   ],
   "source": [
    "print(run_n2x(n2x_sw_path))"
   ]
  },
  {
   "cell_type": "markdown",
   "id": "f76de236",
   "metadata": {},
   "source": [
    "**Note**: This below cells can run only on a device equipped with ORCA"
   ]
  },
  {
   "cell_type": "code",
   "execution_count": null,
   "id": "b905af12",
   "metadata": {},
   "outputs": [],
   "source": [
    "match=compare_n2x_sw_hw(n2x_sw_path,n2x_hw_path)\n",
    "if match:\n",
    "    print('N2X SW and HW match')\n",
    "else:\n",
    "    print('N2X SW and HW do not match')"
   ]
  },
  {
   "cell_type": "code",
   "execution_count": null,
   "id": "0e2146d0",
   "metadata": {},
   "outputs": [],
   "source": [
    "fps=estimate_fps(n2x_hw_path)\n",
    "print('FPS=',fps)"
   ]
  }
 ],
 "metadata": {
  "kernelspec": {
   "display_name": "Python 3 (ipykernel)",
   "language": "python",
   "name": "python3"
  },
  "language_info": {
   "codemirror_mode": {
    "name": "ipython",
    "version": 3
   },
   "file_extension": ".py",
   "mimetype": "text/x-python",
   "name": "python",
   "nbconvert_exporter": "python",
   "pygments_lexer": "ipython3",
   "version": "3.8.12"
  },
  "vscode": {
   "interpreter": {
    "hash": "ffc3184502f0c601d7877e5d370bf8ba6818b01a3ec74b419f728212f39a3488"
   }
  }
 },
 "nbformat": 4,
 "nbformat_minor": 5
}
